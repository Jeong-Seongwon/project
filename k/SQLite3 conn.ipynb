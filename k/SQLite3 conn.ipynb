{
 "cells": [
  {
   "cell_type": "code",
   "execution_count": 1,
   "id": "dca14631",
   "metadata": {},
   "outputs": [
    {
     "name": "stdout",
     "output_type": "stream",
     "text": [
      "(1, 'password123')\n"
     ]
    }
   ],
   "source": [
    "import sqlite3\n",
    "\n",
    "# SQLite 데이터베이스에 연결\n",
    "conn = sqlite3.connect('database.db')\n",
    "\n",
    "# 커서 생성\n",
    "cursor = conn.cursor()\n",
    "\n",
    "# 쿼리 실행 예시\n",
    "cursor.execute(\"SELECT * FROM PLAYERS\")\n",
    "rows = cursor.fetchall()\n",
    "for row in rows:\n",
    "    print(row)\n",
    "\n",
    "# 변경사항 저장\n",
    "conn.commit()\n",
    "\n",
    "# 연결 종료\n",
    "conn.close()\n"
   ]
  },
  {
   "cell_type": "code",
   "execution_count": 4,
   "id": "bb268142",
   "metadata": {},
   "outputs": [
    {
     "ename": "OperationalError",
     "evalue": "unable to open database file",
     "output_type": "error",
     "traceback": [
      "\u001b[1;31m---------------------------------------------------------------------------\u001b[0m",
      "\u001b[1;31mOperationalError\u001b[0m                          Traceback (most recent call last)",
      "Cell \u001b[1;32mIn[4], line 7\u001b[0m\n\u001b[0;32m      4\u001b[0m db_path \u001b[38;5;241m=\u001b[39m \u001b[38;5;124m'\u001b[39m\u001b[38;5;124mC:/Users/602-13/f\u001b[39m\u001b[38;5;124m'\u001b[39m\n\u001b[0;32m      6\u001b[0m \u001b[38;5;66;03m# SQLite 데이터베이스 연결\u001b[39;00m\n\u001b[1;32m----> 7\u001b[0m conn \u001b[38;5;241m=\u001b[39m sqlite3\u001b[38;5;241m.\u001b[39mconnect(db_path)\n",
      "\u001b[1;31mOperationalError\u001b[0m: unable to open database file"
     ]
    }
   ],
   "source": [
    "import sqlite3\n",
    "\n",
    "# 데이터베이스 파일의 전체 경로\n",
    "db_path = 'C:/Users/602-13/f'\n",
    "\n",
    "# SQLite 데이터베이스 연결\n",
    "conn = sqlite3.connect(db_path)\n"
   ]
  },
  {
   "cell_type": "code",
   "execution_count": 5,
   "id": "ba3494d6",
   "metadata": {},
   "outputs": [
    {
     "name": "stdout",
     "output_type": "stream",
     "text": [
      "경로가 유효합니다.\n"
     ]
    }
   ],
   "source": [
    "import os\n",
    "\n",
    "db_path = 'C:/Users/602-13/f/database'\n",
    "\n",
    "if os.path.exists(db_path):\n",
    "    print(\"경로가 유효합니다.\")\n",
    "else:\n",
    "    print(\"경로가 유효하지 않습니다.\")\n"
   ]
  },
  {
   "cell_type": "code",
   "execution_count": 1,
   "id": "9931f351",
   "metadata": {},
   "outputs": [],
   "source": [
    "import sqlite3\n",
    "\n",
    "# SQLite 데이터베이스에 연결\n",
    "conn = sqlite3.connect('cctv_manager.sqlite')\n",
    "\n",
    "# 커서 생성\n",
    "cursor = conn.cursor()\n",
    "\n",
    "# PLAYERS 테이블 생성\n",
    "cursor.execute('''CREATE TABLE IF NOT EXISTS PLAYERS (\n",
    "                    id INTEGER PRIMARY KEY,\n",
    "                    password TEXT\n",
    "                 )''')\n",
    "\n",
    "# 변경사항 저장\n",
    "conn.commit()\n",
    "\n",
    "# 연결 종료\n",
    "conn.close()\n"
   ]
  },
  {
   "cell_type": "code",
   "execution_count": 2,
   "id": "5d155f7f",
   "metadata": {},
   "outputs": [],
   "source": [
    "import sqlite3\n",
    "\n",
    "# SQLite 데이터베이스에 연결\n",
    "conn = sqlite3.connect('cctv_manager.sqlite')\n",
    "\n",
    "# 커서 생성\n",
    "cursor = conn.cursor()\n",
    "\n",
    "# id와 password 추가\n",
    "cursor.execute(\"INSERT INTO PLAYERS (id, name, password) VALUES (?, ?, ?)\", ('z', '홍씨','17'))\n",
    "\n",
    "\n",
    "# 변경사항 저장\n",
    "conn.commit()\n",
    "\n",
    "# 연결 종료\n",
    "conn.close()\n"
   ]
  },
  {
   "cell_type": "code",
   "execution_count": 4,
   "id": "d80742ab",
   "metadata": {},
   "outputs": [
    {
     "name": "stdout",
     "output_type": "stream",
     "text": [
      "트랜잭션 실패: UNIQUE constraint failed: PLAYERS.ID\n"
     ]
    }
   ],
   "source": [
    "import sqlite3\n",
    "\n",
    "# SQLite 데이터베이스에 연결\n",
    "conn = sqlite3.connect('cctv_manager.sqlite')\n",
    "\n",
    "try:\n",
    "    # 커서 생성\n",
    "    cursor = conn.cursor()\n",
    "    \n",
    "    # 트랜잭션 시작\n",
    "    cursor.execute(\"BEGIN TRANSACTION\")\n",
    "    \n",
    "    # 여러 쓰기 작업 수행\n",
    "    cursor.execute(\"INSERT INTO PLAYERS (id, name, password) VALUES (?, ?, ?)\", ('s', '김씨','12'))\n",
    "    cursor.execute(\"INSERT INTO PLAYERS (id, name, password) VALUES (?, ?, ?)\", ('j', '박씨','1234'))\n",
    "    cursor.execute(\"INSERT INTO PLAYERS (id, name, password) VALUES (?, ?, ?)\", ('k', '강씨','13'))\n",
    "    cursor.execute(\"INSERT INTO PLAYERS (id, name, password) VALUES (?, ?, ?)\", ('w', '배씨','14'))\n",
    "    cursor.execute(\"INSERT INTO PLAYERS (id, name, password) VALUES (?, ?, ?)\", ('p', '전씨','15'))\n",
    "    \n",
    "    # 트랜잭션 커밋\n",
    "    conn.commit()\n",
    "    \n",
    "except Exception as e:\n",
    "    # 에러 발생 시 롤백\n",
    "    conn.rollback()\n",
    "    print(\"트랜잭션 실패:\", e)\n",
    "\n",
    "finally:\n",
    "    # 연결 종료\n",
    "    conn.close()\n"
   ]
  },
  {
   "cell_type": "code",
   "execution_count": null,
   "id": "a882e3ad",
   "metadata": {},
   "outputs": [],
   "source": []
  },
  {
   "cell_type": "code",
   "execution_count": null,
   "id": "2ed6056d",
   "metadata": {},
   "outputs": [],
   "source": []
  },
  {
   "cell_type": "code",
   "execution_count": null,
   "id": "2a152868",
   "metadata": {},
   "outputs": [],
   "source": []
  },
  {
   "cell_type": "code",
   "execution_count": null,
   "id": "f8a8e798",
   "metadata": {},
   "outputs": [],
   "source": []
  },
  {
   "cell_type": "code",
   "execution_count": null,
   "id": "2e3f589f",
   "metadata": {},
   "outputs": [],
   "source": []
  },
  {
   "cell_type": "code",
   "execution_count": null,
   "id": "8e6b45a0",
   "metadata": {},
   "outputs": [],
   "source": []
  }
 ],
 "metadata": {
  "kernelspec": {
   "display_name": "Python 3 (ipykernel)",
   "language": "python",
   "name": "python3"
  },
  "language_info": {
   "codemirror_mode": {
    "name": "ipython",
    "version": 3
   },
   "file_extension": ".py",
   "mimetype": "text/x-python",
   "name": "python",
   "nbconvert_exporter": "python",
   "pygments_lexer": "ipython3",
   "version": "3.11.5"
  }
 },
 "nbformat": 4,
 "nbformat_minor": 5
}
