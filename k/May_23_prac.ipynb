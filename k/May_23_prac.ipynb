{
 "cells": [
  {
   "cell_type": "code",
   "execution_count": 3,
   "id": "d97b20f8",
   "metadata": {},
   "outputs": [],
   "source": [
    "class Predict:\n",
    "    def __init__(self):\n",
    "        self.size = (960, 540)\n",
    "        model_path = 'C:/Users/602-13/k/weights/best.pt'\n",
    "        print(f\"Loading model from: {model_path}\")\n",
    "        self.model = YOLO(model_path)\n",
    "        self.labels = []\n",
    "        with open(\"label.txt\", \"r\", encoding=\"utf-8\") as f:\n",
    "            self.labels = [line.strip() for line in f.readlines()]\n"
   ]
  },
  {
   "cell_type": "code",
   "execution_count": 1,
   "id": "dc6cc9d7-9e3a-4c25-bc6a-eb448e40fe88",
   "metadata": {},
   "outputs": [],
   "source": [
    "import dill"
   ]
  },
  {
   "cell_type": "code",
   "execution_count": null,
   "id": "f49647ff-f6e2-4da8-a66e-6aeaaf26faf2",
   "metadata": {},
   "outputs": [],
   "source": []
  }
 ],
 "metadata": {
  "kernelspec": {
   "display_name": "Python 3 (ipykernel)",
   "language": "python",
   "name": "python3"
  },
  "language_info": {
   "codemirror_mode": {
    "name": "ipython",
    "version": 3
   },
   "file_extension": ".py",
   "mimetype": "text/x-python",
   "name": "python",
   "nbconvert_exporter": "python",
   "pygments_lexer": "ipython3",
   "version": "3.11.7"
  }
 },
 "nbformat": 4,
 "nbformat_minor": 5
}
