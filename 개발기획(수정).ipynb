{
 "cells": [
  {
   "cell_type": "markdown",
   "id": "aeb0f9be-8959-4d2f-a18e-3b4fc3333f83",
   "metadata": {},
   "source": [
    "# 스마트 CCTV  \n",
    "정성원, 박성준"
   ]
  },
  {
   "cell_type": "markdown",
   "id": "0ec89763-401f-40e0-99da-66c232403a7b",
   "metadata": {},
   "source": [
    "## 개요  \n",
    "현대 사회에서 공공장소의 안전을 유지하는 것은 매우 중요합니다. 하지만 CCTV의 상시 감시에는 많은 인력과 비용이 소요됩니다. 이를 해결하기 위해 스마트 CCTV 시스템을 도입하여 실시간으로 이상행동을 감지하고 응급상황에 신속하게 대응하고자 합니다.  "
   ]
  },
  {
   "cell_type": "markdown",
   "id": "d6b6110b",
   "metadata": {},
   "source": [
    "## 목적  \n",
    "스마트 CCTV 시스템은 공공장소에서 발생할 수 있는 다양한 응급 상황을 자동으로 감지하여, 즉각적으로 대응할 수 있는 시스템입니다. 이를 통해 사회 안전을 강화하고, 경찰 및 보안 인력의 효율적인 운영을 도모합니다.  \n",
    "또한, CCTV 별 이상상황 데이터를 추가 학습해서 커스텀 모델을 적용하여 정확도 향상을 목표로 합니다.  "
   ]
  },
  {
   "cell_type": "markdown",
   "id": "cbab8710-0de9-47ce-8c52-aa55d09ab1f6",
   "metadata": {},
   "source": [
    "## 목표  \n",
    " - CCTV 영상을 실시간으로 웹 상에서 모니터링할 수 있는 시스템 개발  \n",
    " - 인공지능 기술을 활용하여 이상 행동을  감지하는 기능 구현  \n",
    " - 이상 상황 발생 시 관리자나 구조대에 실시간으로 알림을 전송하는 기능 구현  \n",
    " - 이상 상황 데이터를 추가하여 모델 커스텀 학습하는 프로그램 개발  "
   ]
  },
  {
   "cell_type": "markdown",
   "id": "105c4ee4-4b1b-4a76-a6b1-7c4f7e778d3a",
   "metadata": {},
   "source": [
    "## 주요 기능    \n",
    " 1. CCTV 영상 실시간 모니터링  \n",
    " 2. 이상 상황 감지  \n",
    " 3. 알림 기능  \n",
    " 4. 과거 CCTV 영상 검색 및 조회  \n",
    " 5. 이상상황 데이터를 커스텀 학습  "
   ]
  },
  {
   "cell_type": "markdown",
   "id": "d9dd5158-2eea-4889-84a5-eca0c363ac0c",
   "metadata": {},
   "source": [
    "## 아키텍처 설계  \n",
    " - CCTV 카메라 및 영상 수집 시스템\n",
    "  1. CCTV 카메라로 영상을 촬영하고 실시간으로 영상을 수집합니다.  \n",
    "  2. 영상 수집 시스템은 CCTV 카메라로부터 수집된 영상 데이터를 처리하여 서버로 전송합니다.  \n",
    " - 서버 및 데이터베이스  \n",
    "  1. 수집된 영상 데이터는 서버에 저장되며, 데이터베이스에 적절하게 저장됩니다.  \n",
    "  2. 데이터베이스는 CCTV 영상 데이터뿐만 아니라 감지된 이상 상황 및 관련 정보를 저장합니다.  \n",
    " - 이상 상황 감지 및 처리 시스템  \n",
    "  1. 영상 데이터를 실시간으로 분석하여 이상 행동을 감지하는 알고리즘을 구현합니다.  \n",
    "  2. 감지된 이상 상황은 관리자나 구조대에 알림을 전송하고 응급 조치를 취할 수 있도록 합니다.  \n",
    " - 이상 상황 데이터 커스텀 학습 시스템  \n",
    "  1. 이미지나 영상에서 데이터셋을 yolov8 커스텀 학습에 맞게 전처리합니다.  \n",
    "  2. 손쉽게 학습할 수 있도록 프로그램 작성합니다.  \n",
    " - 웹 인터페이스  \n",
    "  1. 사용자는 웹 인터페이스를 통해 실시간으로 CCTV 영상을 모니터링할 수 있습니다.  \n",
    "  2. 사용자가 이상 상황을 신속하게 파악할 수 있도록 감지된 이상 상황을 시각적으로 표시합니다.  \n",
    "  3. 이상 상황 발생 시 발생 원인을 확인하기 위해 영상을 검색하고 조회합니다.  \n",
    " - 알림 및 통지 시스템  \n",
    "  1. 이상 상황이 감지되면 관리자나 구조대에 알림을 전송해야 합니다.  \n",
    "  2. 푸시 알림: 관리자 도는 구조대의 스마트폰 애플리케이션으로 실시간 알림을 전송하여 빠르고 효율적으로 대응이 가능합니다.\n",
    "  3. MQTT: 이상 상황이 감지되면 MQTT 브로커로 메시지를 발행, 관리자에게 알림이 전송되도록 합니다.\n",
    "  4. 카카오톡 비즈 메시지 API: 긴급성이나 편의성등 즉각적인 알림 방법으로서 효과적일 수 있습니다. \n",
    "  5. 경보음 & 경고등 작동: IoT 기기나 자동화 제어 시스템을 사용, 해당 기기들을 제어가 가능합니다.\n",
    " - 확장성 및 유지보수성  \n",
    "  1. 추후에 CCTV 카메라의 수가 늘어날 경우 확장 가능해야 합니다.  \n",
    "     새로운 카메라를 추가할 때 시스템이 자동으로 인식하고 통합할 수 있어야 합니다.\n",
    "  2. 시스템의 유지보수를 위해 모듈화된 아키텍처가 필요합니다.  "
   ]
  },
  {
   "cell_type": "markdown",
   "id": "c764a301-c453-4c05-bf1b-a3a64d4388ff",
   "metadata": {},
   "source": [
    "### 플로우차트  \n",
    "![flowchart](flowchart.png)"
   ]
  },
  {
   "cell_type": "markdown",
   "id": "5ddf69d3-bc72-4533-97e1-fd49640aa226",
   "metadata": {},
   "source": [
    "## 일정 계획  \n",
    "### * 프로젝트 기간 : 약 12주 (2024-04-17 ~ 2024-07-05)  \n",
    " - 목표설정 및 요구사항 분석 (3일):\n",
    "  1. 프로젝트 주제 선정 및 목표 설정\n",
    "  2. 요구사항 정의 및 문서화\n",
    " - 프로젝트 범위 및 시스템 설계 (1주):\n",
    "  1. 프로젝트 범위 설정\n",
    "  2. 시스템 설계 : 아키텍쳐 설계 및 기술 스택 결정, 프로토 타입 개발\n",
    " - 개발 및 구현 (8주):\n",
    "  1. 개발자 역할 분담 및 수행 (2인)\n",
    "  2. 웹 인터페이스 개발 (5주)\n",
    "  3. 이상 상황 감지 프로그램 개발 (5주)\n",
    "  4. 알림 기능 구현 (3주)\n",
    "  5. 영상 검색 및 조회 기능 개발 (3주)\n",
    " - 테스트 및 검증 (2주):\n",
    "  1. 시스템 통합 테스트 및 피드백 수렴  \n",
    "  \n",
    "### * 역할 분담\n",
    " - 웹 인터페이스 개발 : 박성준\n",
    " - 이상 상황 감지 프로그램 개발 : 정성원\n",
    " - 알림 기능 구현 : 박성준\n",
    " - 영상 검색 및 조회 기능 개발 : 박성준\n",
    " - yolov8 커스텀 학습 프로그램 개발 : 정성원"
   ]
  },
  {
   "cell_type": "markdown",
   "id": "997209be-e9ae-4573-92d8-f0bc322860de",
   "metadata": {},
   "source": [
    "![roadmap](roadmap(수정).png)"
   ]
  },
  {
   "cell_type": "markdown",
   "id": "bafc45e1-0120-4e5e-ac5f-bc7adec8e6bd",
   "metadata": {},
   "source": [
    "## 개발 환경  \n",
    " - 웹 개발 환경:  \n",
    "  1. 프론트엔드 : HTML, CSS, JavaScript  \n",
    "  2. 백엔드 : Python의 Flask 프레임워크  \n",
    " - 알고리즘 개발 환경:  \n",
    "  1. Python : 딥러닝 라이브러리인 Tensorflow, YOLO 객체 탐지 알고리즘을 사용하여 이상 상황 감지 알고리즘 개발  \n",
    "  2. OpenCV : 영상처리 및 분석  \n",
    " - 알림 기능:\n",
    "  1. 카카오톡 비즈 메세지 API\n",
    " - 데이터베이스:  \n",
    "  1. SQLite  \n",
    " - 시스템 구축 및 관리 환경:  \n",
    "  1. 운영 체제 : Windows  \n",
    "  2. 웹 서버 : Flask 웹 서버\n",
    " - 협업 및 프로젝트 관리 도구:\n",
    "  1. GitHub  \n",
    " - 개발 도구 및 IDE:\n",
    "  1. 웹 : VSC  \n",
    "  2. 알고리즘 : Spyder, VSC  \n",
    "  3. 데이터베이스 : SQLiteManager"
   ]
  },
  {
   "cell_type": "markdown",
   "id": "f18b973f-12ca-434f-8f2b-baa6ed848bc8",
   "metadata": {},
   "source": [
    "## 웹 화면 설명  \n",
    " - 로그인 페이지 : 사용자 인증을 위한 로그인 화면\n",
    " - 대시보드 페이지 : 실시간 영상 모니터링 및 이상 상황 확인\n",
    " - 영상 검색 및 조회 페이지 : 과거 CCTV 영상 검색 및 조회 기능 제공"
   ]
  },
  {
   "cell_type": "markdown",
   "id": "f5bbd3f3-5929-42c4-827f-e84871812bc3",
   "metadata": {},
   "source": [
    "## 참고 자료  \n",
    " - AIHub 이상행동 CCTV 영상 : https://aihub.or.kr/aihubdata/data/view.do?currMenu=115&topMenu=100&aihubDataSe=data&dataSetSn=171\n",
    " - OpenCV 공식 문서: https://opencv.org/\n",
    " - Flask 공식 문서: https://flask.palletsprojects.com/\n",
    " - Yolov8 custom dataset training: https://docs.ultralytics.com/quickstart/#use-ultralytics-with-cli"
   ]
  }
 ],
 "metadata": {
  "kernelspec": {
   "display_name": "Python 3 (ipykernel)",
   "language": "python",
   "name": "python3"
  },
  "language_info": {
   "codemirror_mode": {
    "name": "ipython",
    "version": 3
   },
   "file_extension": ".py",
   "mimetype": "text/x-python",
   "name": "python",
   "nbconvert_exporter": "python",
   "pygments_lexer": "ipython3",
   "version": "3.11.5"
  }
 },
 "nbformat": 4,
 "nbformat_minor": 5
}
