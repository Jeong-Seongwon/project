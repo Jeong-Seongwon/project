{
 "cells": [
  {
   "cell_type": "markdown",
   "id": "950f41da-a972-4e03-9cf5-dbde0d4cb632",
   "metadata": {},
   "source": [
    "# Object Detection with YOLOv8"
   ]
  },
  {
   "cell_type": "code",
   "execution_count": null,
   "id": "2189dc9f-3a39-4603-ae5d-a3c2b711a9e5",
   "metadata": {},
   "outputs": [],
   "source": [
    "import cv2\n",
    "from ultralytics import YOLO\n",
    "\n",
    "CONFIDENCE_THRESHOLD = 0.7\n",
    "\n",
    "cam_index = 0 #내장 캠\n",
    "\n",
    "cap = cv2.VideoCapture(cam_index)\n",
    "cap.set(cv2.CAP_PROP_FRAME_WIDTH, 640)\n",
    "cap.set(cv2.CAP_PROP_FRAME_HEIGHT, 480)   \n",
    "\n",
    "GREEN = (0, 255, 0)\n",
    "WHITE = (255, 255, 255)\n",
    "\n",
    "with open('coco128.txt', 'r', encoding='utf8') as coco128:\n",
    "    data = coco128.read()\n",
    "    class_list = data.split('\\n')\n",
    "\n",
    "while True:\n",
    "    ret, frame = cap.read()\n",
    "    if not ret:\n",
    "        print('Cam Error')\n",
    "        break\n",
    "\n",
    "    model = YOLO('yolov8n.pt')\n",
    "    detection = model(frame)[0]\n",
    "    \n",
    "    for data in detection.boxes.data.tolist():\n",
    "        confidence = float(data[4])\n",
    "        if confidence < CONFIDENCE_THRESHOLD:\n",
    "            continue\n",
    "    \n",
    "        xmin, ymin, xmax, ymax = int(data[0]), int(data[1]), int(data[2]), int(data[3])\n",
    "        label = int(data[5])\n",
    "        cv2.rectangle(frame, (xmin, ymin), (xmax, ymax), GREEN, 2)\n",
    "        cv2.putText(frame, class_list[label]+' '+str(round(confidence, 2))+'%', (xmin, ymin), cv2.FONT_ITALIC, 1, WHITE, 2)\n",
    "\n",
    "    cv2.imshow('frame', frame)\n",
    "\n",
    "    if cv2.waitKey(1) == ord('q'):\n",
    "        break"
   ]
  },
  {
   "cell_type": "markdown",
   "id": "91fb86b0-2952-4a60-88a4-678932b62408",
   "metadata": {},
   "source": [
    "# YOLOv8 classifier model custom dataset training"
   ]
  },
  {
   "cell_type": "code",
   "execution_count": null,
   "id": "33768aa1-af54-487e-965f-9cbabcae718e",
   "metadata": {},
   "outputs": [],
   "source": [
    "from ultralytics import YOLO\n",
    "# import torch\n",
    "\n",
    "model = YOLO('yolov8s-cls.yaml')\n",
    "model = YOLO('yolov8s-cls.pt')\n",
    "\n",
    "model.train(data='/custom_cls/', epochs=20)"
   ]
  },
  {
   "attachments": {
    "82c16202-a8fa-4cbc-bf3c-cd9d7a65eb66.png": {
     "image/png": "[encoded data removed]"
    }
   },
   "cell_type": "markdown",
   "id": "73337820-6b2e-4c0b-9ded-71ae0fa96d5f",
   "metadata": {},
   "source": [
    "![image.png](attachment:82c16202-a8fa-4cbc-bf3c-cd9d7a65eb66.png)  \n",
    "  \n",
    "훈련 결과 : ./runs/classify/train/weights/best.pt  \n",
    "  \n",
    "### 모델 테스트"
   ]
  },
  {
   "cell_type": "code",
   "execution_count": null,
   "id": "d133c4be-9d59-4f3c-93ff-3c486c6cd69e",
   "metadata": {},
   "outputs": [],
   "source": [
    "results = model(image) \n",
    "# image에는 image path 또는 numpy array형식 이미지 입력\n",
    "    for result in results:\n",
    "        probs = list(result.probs)\n",
    "        classes = result.names\n",
    "\n",
    "        highest_prob = max(probs)\n",
    "        highest_prob_index = probs.index(highest_prob)\n",
    "\n",
    "        print(f\"class: {classes[highest_prob_index]}({highest_prob * 100:.2f}%)\")"
   ]
  },
  {
   "cell_type": "markdown",
   "id": "67b4bc6a-e5a9-420e-9b81-3a76cb0f93df",
   "metadata": {},
   "source": [
    "# YOLOv8 Detector custom dataset training  \n",
    "  \n",
    "YOLO Detector 훈련을 위해서는, train에 사용되는 .yaml file을 작성해야 한다.  \n",
    "  \n",
    "coco128.yaml file을 참고하였는데, 구성은 다음과 같다.  \n",
    "  \n",
    "names:  \n",
    "\t0: red  \n",
    "\t1: green  \n",
    "test: /tld_sample/test/  \n",
    "train: /tld_sample/train/  \n",
    "val: /tld_sample/valid/  \n",
    "  \n",
    "  \n",
    "\n",
    "\n",
    "names에는 0 ~ N의 라벨과 라벨 명을 적고,  \n",
    "  \n",
    "train, val, test에는 각각의 폴더 경로(절대 경로)를 적으면 된다.  "
   ]
  },
  {
   "cell_type": "code",
   "execution_count": null,
   "id": "c6a5559e-0632-4c86-b729-bd48b31b3480",
   "metadata": {},
   "outputs": [],
   "source": [
    "import yaml\n",
    "\n",
    "data = {\n",
    "    \"train\" : '/tld_sample/train/',\n",
    "        \"val\" : '/tld_sample/valid/',\n",
    "        # \"test\" : '/tld_sample/test/', optional \n",
    "        \"names\" : {0 : 'red', 1 : 'green'}}\n",
    "\n",
    "with open('./tld.yaml', 'w') as f :\n",
    "    yaml.dump(data, f)\n",
    "\n",
    "# check written file\n",
    "with open('./tld.yaml', 'r') as f :\n",
    "    lines = yaml.safe_load(f)\n",
    "    print(lines)"
   ]
  },
  {
   "attachments": {
    "758dffda-cb19-4953-823e-60ec49403fed.png": {
     "image/png": "[encoded data removed]"
    }
   },
   "cell_type": "markdown",
   "id": "0c703266-9aec-449f-ba13-69ea35dc96f2",
   "metadata": {},
   "source": [
    "![image.png](attachment:758dffda-cb19-4953-823e-60ec49403fed.png)  \n",
    "  \n"
   ]
  },
  {
   "cell_type": "code",
   "execution_count": null,
   "id": "3652029e-d7cc-4e9d-8f97-345ad359c620",
   "metadata": {},
   "outputs": [],
   "source": [
    "from ultralytics import YOLO\n",
    "\n",
    "model = YOLO('yolov8s.pt')\n",
    "\n",
    "model.train(data='./tld.yaml' , epochs=20)"
   ]
  },
  {
   "cell_type": "markdown",
   "id": "e29a4da2-36cb-4d53-8818-8536f9ae0a00",
   "metadata": {},
   "source": [
    "학습 실행 결과는 runs/detect/train에 best.pt, last.pt로 저장  \n",
    "  \n",
    "### 새로운 이미지에 성능 테스트"
   ]
  },
  {
   "cell_type": "code",
   "execution_count": null,
   "id": "c373022c-a847-4f13-8bb9-21edb6096c50",
   "metadata": {},
   "outputs": [],
   "source": [
    "import cv2\n",
    "from ultralytics import YOLO\n",
    "\n",
    "# model = YOLO('yolov8s.pt')\n",
    "\n",
    "model = YOLO('./runs/detect/train7/weights/best.pt')\n",
    "results = model('./red_light_test.jpg') # conf=0.2, iou ..\n",
    "\n",
    "plots = results[0].plot()\n",
    "cv2.imshow(\"plot\", plots)\n",
    "cv2.waitKey(0)\n",
    "cv2.destroyAllWindows()"
   ]
  }
 ],
 "metadata": {
  "kernelspec": {
   "display_name": "Python 3 (ipykernel)",
   "language": "python",
   "name": "python3"
  },
  "language_info": {
   "codemirror_mode": {
    "name": "ipython",
    "version": 3
   },
   "file_extension": ".py",
   "mimetype": "text/x-python",
   "name": "python",
   "nbconvert_exporter": "python",
   "pygments_lexer": "ipython3",
   "version": "3.11.5"
  }
 },
 "nbformat": 4,
 "nbformat_minor": 5
}
