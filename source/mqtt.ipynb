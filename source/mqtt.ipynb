{
 "cells": [
  {
   "cell_type": "code",
   "execution_count": null,
   "id": "1a618cec-1ce9-4603-899a-2732b7331f26",
   "metadata": {
    "tags": []
   },
   "outputs": [],
   "source": [
    "!pip install paho-mqtt"
   ]
  },
  {
   "cell_type": "code",
   "execution_count": null,
   "id": "e342bd49-5b99-469c-afbc-8583b587ad13",
   "metadata": {
    "tags": []
   },
   "outputs": [],
   "source": [
    "import paho.mqtt.publish as publish\n",
    "\n",
    "# MQTT 브로커(Broker) 정보 설정\n",
    "broker_address = '192.168.0.44'\n",
    "port = 1883\n",
    "\n",
    "# 토픽과 메시지 설정\n",
    "topic = \"tempo\"\n",
    "message = \"seongwon python\"\n",
    "\n",
    "# 메시지 발행\n",
    "publish.single(topic, message, hostname=broker_address, port=port)"
   ]
  },
  {
   "cell_type": "code",
   "execution_count": null,
   "id": "b71e8b70-9afa-4b04-a85c-f505379dc08e",
   "metadata": {
    "tags": []
   },
   "outputs": [],
   "source": [
    "import paho.mqtt.client as mqtt\n",
    "\n",
    "# The callback for when the client receives a CONNACK response from the server.\n",
    "def on_connect(client, userdata, flags, reason_code, properties):\n",
    "    print(f\"Connected with result code {reason_code}\")\n",
    "    # Subscribing in on_connect() means that if we lose the connection and\n",
    "    # reconnect then subscriptions will be renewed.\n",
    "    client.subscribe(\"$SYS/#\")\n",
    "\n",
    "# The callback for when a PUBLISH message is received from the server.\n",
    "def on_message(client, userdata, msg):\n",
    "    print(msg.topic+\" \"+str(msg.payload))\n",
    "\n",
    "mqttc = mqtt.Client(mqtt.CallbackAPIVersion.VERSION2)\n",
    "mqttc.on_connect = on_connect\n",
    "mqttc.on_message = on_message\n",
    "\n",
    "mqttc.connect(\"192.168.0.44\", 1883, 60)\n",
    "\n",
    "mqttc.loop_forever()"
   ]
  },
  {
   "cell_type": "code",
   "execution_count": 60,
   "id": "86aabb12-73e8-49d4-b19b-121a8d54291a",
   "metadata": {
    "tags": []
   },
   "outputs": [
    {
     "name": "stdout",
     "output_type": "stream",
     "text": [
      "$SYS/broker/uptime b'356203 seconds'\n",
      "$SYS/broker/load/messages/received/1min b'91099.98'\n",
      "$SYS/broker/load/messages/sent/1min b'91234.84'\n",
      "$SYS/broker/load/publish/received/1min b'91098.23'\n",
      "$SYS/broker/load/publish/sent/1min b'91233.09'\n",
      "$SYS/broker/load/bytes/received/1min b'910985.84'\n",
      "$SYS/broker/load/bytes/sent/1min b'916960.87'\n",
      "$SYS/broker/load/messages/received/5min b'40766.09'\n",
      "$SYS/broker/load/messages/sent/5min b'40897.92'\n",
      "$SYS/broker/load/publish/received/5min b'40764.09'\n",
      "$SYS/broker/load/publish/sent/5min b'40895.76'\n",
      "$SYS/broker/load/bytes/received/5min b'407650.24'\n",
      "$SYS/broker/load/bytes/sent/5min b'413252.19'\n",
      "$SYS/broker/load/messages/received/15min b'15545.53'\n",
      "$SYS/broker/load/messages/sent/15min b'15673.61'\n",
      "$SYS/broker/load/publish/received/15min b'15543.45'\n",
      "$SYS/broker/load/publish/sent/15min b'15670.67'\n",
      "$SYS/broker/load/bytes/received/15min b'155453.05'\n",
      "$SYS/broker/load/bytes/sent/15min b'160763.04'\n",
      "$SYS/broker/store/messages/bytes b'301'\n",
      "$SYS/broker/heap/current b'29600'\n",
      "$SYS/broker/messages/received b'249521'\n",
      "$SYS/broker/messages/sent b'254389'\n",
      "$SYS/broker/publish/messages/received b'249411'\n",
      "$SYS/broker/publish/messages/sent b'254229'\n",
      "$SYS/broker/bytes/received b'2495324'\n",
      "$SYS/broker/bytes/sent b'2694454'\n",
      "$SYS/broker/publish/bytes/received b'249650'\n",
      "$SYS/broker/publish/bytes/sent b'273582'\n",
      "$SYS/broker/uptime b'356214 seconds'\n",
      "$SYS/broker/load/messages/received/1min b'75839.88'\n",
      "$SYS/broker/load/messages/sent/1min b'75978.65'\n",
      "$SYS/broker/load/publish/received/1min b'75838.42'\n",
      "$SYS/broker/load/publish/sent/1min b'75977.19'\n",
      "$SYS/broker/load/bytes/received/1min b'758387.16'\n",
      "$SYS/broker/load/bytes/sent/1min b'764545.45'\n",
      "$SYS/broker/load/messages/received/5min b'39298.40'\n",
      "$SYS/broker/load/messages/sent/5min b'39431.19'\n",
      "$SYS/broker/load/publish/received/5min b'39296.48'\n",
      "$SYS/broker/load/publish/sent/5min b'39429.10'\n",
      "$SYS/broker/load/bytes/received/5min b'392973.78'\n",
      "$SYS/broker/load/bytes/sent/5min b'398628.54'\n",
      "$SYS/broker/load/messages/received/15min b'15356.68'\n",
      "$SYS/broker/load/messages/sent/15min b'15485.13'\n",
      "$SYS/broker/load/publish/received/15min b'15354.63'\n",
      "$SYS/broker/load/publish/sent/15min b'15482.22'\n",
      "$SYS/broker/load/bytes/received/15min b'153564.64'\n",
      "$SYS/broker/load/bytes/sent/15min b'158895.99'\n",
      "$SYS/broker/heap/current b'29572'\n",
      "$SYS/broker/messages/sent b'254418'\n",
      "$SYS/broker/publish/messages/sent b'254258'\n",
      "$SYS/broker/bytes/sent b'2695750'\n",
      "$SYS/broker/publish/bytes/sent b'273804'\n",
      "$SYS/broker/uptime b'356225 seconds'\n",
      "$SYS/broker/load/messages/received/1min b'63135.99'\n",
      "$SYS/broker/load/messages/sent/1min b'63273.44'\n",
      "$SYS/broker/load/publish/received/1min b'63134.77'\n",
      "$SYS/broker/load/publish/sent/1min b'63272.22'\n",
      "$SYS/broker/load/bytes/received/1min b'631350.19'\n",
      "$SYS/broker/load/bytes/sent/1min b'637472.83'\n",
      "$SYS/broker/load/messages/received/5min b'37883.56'\n",
      "$SYS/broker/load/messages/sent/5min b'38016.28'\n",
      "$SYS/broker/load/publish/received/5min b'37881.71'\n",
      "$SYS/broker/load/publish/sent/5min b'38014.26'\n",
      "$SYS/broker/load/bytes/received/5min b'378825.71'\n",
      "$SYS/broker/load/bytes/sent/5min b'384490.94'\n",
      "$SYS/broker/load/messages/received/15min b'15170.13'\n",
      "$SYS/broker/load/messages/sent/15min b'15298.61'\n",
      "$SYS/broker/load/publish/received/15min b'15168.11'\n",
      "$SYS/broker/load/publish/sent/15min b'15295.74'\n",
      "$SYS/broker/load/bytes/received/15min b'151699.16'\n",
      "$SYS/broker/load/bytes/sent/15min b'157037.97'\n",
      "$SYS/broker/messages/sent b'254442'\n",
      "$SYS/broker/publish/messages/sent b'254282'\n",
      "$SYS/broker/bytes/sent b'2696840'\n",
      "$SYS/broker/publish/bytes/sent b'273998'\n"
     ]
    },
    {
     "data": {
      "text/plain": [
       "<MQTTErrorCode.MQTT_ERR_SUCCESS: 0>"
      ]
     },
     "execution_count": 60,
     "metadata": {},
     "output_type": "execute_result"
    }
   ],
   "source": [
    "import time\n",
    "mqttc.loop_start()\n",
    "\n",
    "for i in range(5):\n",
    "    #temperature = sensor.blocking_read()\n",
    "    mqttc.publish(\"tempo\", f\"temp : {i}\")\n",
    "    time.sleep(1)\n",
    "\n",
    "mqttc.loop_stop()"
   ]
  }
 ],
 "metadata": {
  "kernelspec": {
   "display_name": "Python 3 (ipykernel)",
   "language": "python",
   "name": "python3"
  },
  "language_info": {
   "codemirror_mode": {
    "name": "ipython",
    "version": 3
   },
   "file_extension": ".py",
   "mimetype": "text/x-python",
   "name": "python",
   "nbconvert_exporter": "python",
   "pygments_lexer": "ipython3",
   "version": "3.11.5"
  }
 },
 "nbformat": 4,
 "nbformat_minor": 5
}
