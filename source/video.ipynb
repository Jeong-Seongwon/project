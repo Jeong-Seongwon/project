{
 "cells": [
  {
   "cell_type": "code",
   "execution_count": null,
   "id": "1f3fc530-7045-420a-89b3-0bae4d8a47f0",
   "metadata": {},
   "outputs": [],
   "source": [
    "def record_video_opencv(filename):\n",
    "    # OpenCV를 사용하여 비디오 캡처 시작\n",
    "    cap = cv2.VideoCapture(\"test.mp4\")\n",
    "    # 비디오 녹화 설정\n",
    "    fourcc = cv2.VideoWriter_fourcc(*'XVID')\n",
    "    out = cv2.VideoWriter(filename, fourcc, 20.0, (640, 480))\n",
    "\n",
    "    while True:\n",
    "        ret, frame = cap.read()\n",
    "        # 프레임을 비디오에 쓰기\n",
    "        out.write(frame)\n",
    "        cv2.imshow('frame', frame)\n",
    "        if cv2.waitKey(1) & 0xFF == ord('q'):\n",
    "            break\n",
    "\n",
    "    # 종료\n",
    "    cap.release()\n",
    "    out.release()\n",
    "    cv2.destroyAllWindows()\n",
    "\n",
    "# 비디오를 녹화하고 저장\n",
    "record_video_opencv(\"output_video.mp4\")\n",
    "\n",
    "# 저장한 비디오 출력\n",
    "cap = cv2.VideoCapture(\"output_video.mp4\")\n",
    "while(cap.isOpened()):\n",
    "    ret, frame = cap.read()\n",
    "    if not ret:\n",
    "        break\n",
    "    cv2.imshow('frame',frame)\n",
    "    if cv2.waitKey(25) & 0xFF == ord('q'):\n",
    "        break\n",
    "\n",
    "cap.release()\n",
    "cv2.destroyAllWindows()"
   ]
  }
 ],
 "metadata": {
  "kernelspec": {
   "display_name": "Python 3 (ipykernel)",
   "language": "python",
   "name": "python3"
  },
  "language_info": {
   "codemirror_mode": {
    "name": "ipython",
    "version": 3
   },
   "file_extension": ".py",
   "mimetype": "text/x-python",
   "name": "python",
   "nbconvert_exporter": "python",
   "pygments_lexer": "ipython3",
   "version": "3.11.5"
  }
 },
 "nbformat": 4,
 "nbformat_minor": 5
}
