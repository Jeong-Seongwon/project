{
 "cells": [
  {
   "cell_type": "code",
   "execution_count": 1,
   "id": "c373022c-a847-4f13-8bb9-21edb6096c50",
   "metadata": {},
   "outputs": [
    {
     "name": "stdout",
     "output_type": "stream",
     "text": [
      "\n",
      "image 1/1 C:\\Users\\602-24\\yolo\\test.jpg: 384x640 1 fight, 104.0ms\n",
      "Speed: 7.0ms preprocess, 104.0ms inference, 1534.5ms postprocess per image at shape (1, 3, 384, 640)\n"
     ]
    }
   ],
   "source": [
    "import cv2\n",
    "from ultralytics import YOLO\n",
    "\n",
    "# model = YOLO('yolov8s.pt')\n",
    "\n",
    "model = YOLO('./runs/detect/train/weights/best.pt')\n",
    "results = model('./test.jpg')\n",
    "\n",
    "plots = results[0].plot()\n",
    "cv2.imshow(\"plot\", plots)\n",
    "cv2.waitKey(0)\n",
    "cv2.destroyAllWindows()"
   ]
  },
  {
   "cell_type": "code",
   "execution_count": null,
   "id": "fbf190d9-5eda-464c-acca-352d10135ed2",
   "metadata": {},
   "outputs": [],
   "source": [
    "cap = cv2.VideoCapture('test.mp4')\n",
    "\n",
    "cap.set(cv2.CAP_PROP_POS_FRAMES, 5000)\n",
    "\n",
    "model = YOLO('./runs/detect/train/weights/best.pt')\n",
    "\n",
    "while cap.isOpened():\n",
    "    ret, frame = cap.read()\n",
    "    \n",
    "    if not ret:\n",
    "        break\n",
    "    \n",
    "    results = model(frame)\n",
    "    \n",
    "    plots = results[0].plot()\n",
    "    \n",
    "    plots = cv2.resize(plots, (640,640))\n",
    "    cv2.imshow('video',plots)\n",
    "    \n",
    "    if cv2.waitKey(25) & 0xFF == ord('q'):\n",
    "        break\n",
    "    \n",
    "cap.release()\n",
    "cv2.destroyAllWindows()"
   ]
  },
  {
   "cell_type": "code",
   "execution_count": null,
   "id": "aa2a5669-1140-4120-ae79-3179373afd0a",
   "metadata": {},
   "outputs": [],
   "source": []
  },
  {
   "cell_type": "code",
   "execution_count": null,
   "id": "77c2ed03-4878-4c59-8bec-ccbe852fb600",
   "metadata": {},
   "outputs": [],
   "source": []
  }
 ],
 "metadata": {
  "kernelspec": {
   "display_name": "Python 3 (ipykernel)",
   "language": "python",
   "name": "python3"
  },
  "language_info": {
   "codemirror_mode": {
    "name": "ipython",
    "version": 3
   },
   "file_extension": ".py",
   "mimetype": "text/x-python",
   "name": "python",
   "nbconvert_exporter": "python",
   "pygments_lexer": "ipython3",
   "version": "3.11.5"
  }
 },
 "nbformat": 4,
 "nbformat_minor": 5
}
