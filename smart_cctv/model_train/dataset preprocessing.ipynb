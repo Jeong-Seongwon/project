{
 "cells": [
  {
   "cell_type": "code",
   "execution_count": 7,
   "id": "00562536-11e4-4059-b4c0-0151e9bdf15b",
   "metadata": {
    "tags": []
   },
   "outputs": [],
   "source": [
    "import cv2\n",
    "import os\n",
    "import xml.etree.ElementTree as ET\n",
    "from tkinter import filedialog\n",
    "\n",
    "def extract_frames(xml_path, video_path, output_folder):\n",
    "    # 영상내에서 액션의 중앙 프레임 이미지 저장하는 함수\n",
    "    \n",
    "    # XML 파일 파싱\n",
    "    tree = ET.parse(xml_path)\n",
    "    root = tree.getroot()\n",
    "\n",
    "    # 동영상 파일 열기\n",
    "    cap = cv2.VideoCapture(video_path)\n",
    "    file_name = root.find('.//filename').text[:-4]\n",
    "    event_name = root.find('.//eventname').text\n",
    "    i = 1\n",
    "    # 프레임 추출 및 저장\n",
    "    for action in root.findall('.//action'):\n",
    "\n",
    "        for frame_info in action.findall('.//frame'):\n",
    "            start_frame = int(frame_info.find('start').text)\n",
    "            end_frame = int(frame_info.find('end').text)\n",
    "            \n",
    "            cap.set(cv2.CAP_PROP_POS_FRAMES, (start_frame+end_frame)//2)\n",
    "            ret, frame = cap.read()\n",
    "            \n",
    "            # 이미지 저장\n",
    "            image_path = os.path.join(output_folder, f\"{event_name}_{i}_{file_name}.jpg\")\n",
    "            i += 1\n",
    "            cv2.imwrite(image_path, frame)\n",
    "\n",
    "    # 비디오 파일 닫기\n",
    "    cap.release()\n",
    "\n",
    "# XML 파일 경로, 동영상 파일 경로 및 결과 이미지 저장 폴더 지정\n",
    "#xml_path = './data/cctv/swoon/710-3_cam01_swoon01_place01_day_spring.xml'\n",
    "#video_path = './data/cctv/swoon/710-3_cam01_swoon01_place01_day_spring.mp4'\n",
    "#output_folder = './data/output_images/'\n",
    "\n",
    "# 결과 이미지 저장 폴더 생성\n",
    "#os.makedirs(output_folder, exist_ok=True)\n",
    "\n",
    "# 프레임 추출 및 저장\n",
    "#extract_frames(xml_path, video_path, output_folder)\n"
   ]
  },
  {
   "cell_type": "code",
   "execution_count": 8,
   "id": "577e7a67-e209-4e79-8e76-2d4a37d7bc89",
   "metadata": {
    "tags": []
   },
   "outputs": [],
   "source": [
    "# CCTV 영상 데이터 폴더 경로 지정\n",
    "data_path = filedialog.askdirectory(initialdir=\"./data\", title=\"cctv video data folder path\")\n",
    "output_folder = \"\"\n",
    "\n",
    "# data_path 폴더 내의 모든 폴더 안 동영상 데이터 에서 이미지 추출\n",
    "for folder_name in os.listdir(data_path):\n",
    "    data_folder_path = os.path.join(data_path, folder_name)\n",
    "    \n",
    "    for idx, data_folder_name in enumerate(os.listdir(data_folder_path)):\n",
    "        # idx는 데이터별로 train, valid, test로 나누기 위함\n",
    "        folder_path = os.path.join(data_folder_path, data_folder_name)\n",
    "        \n",
    "        # 이미지 저장 경로 지정\n",
    "        if not output_folder:\n",
    "            output_folder = filedialog.askdirectory(initialdir=\"./data\", title=\"output image folder path\")\n",
    "\n",
    "        for file_name in os.listdir(folder_path):\n",
    "            file_path = os.path.join(folder_path, file_name)\n",
    "\n",
    "            # 영상 파일과 매칭되는 xml 파일 경로\n",
    "            if os.path.isfile(file_path) and file_name.lower().endswith('.xml'):\n",
    "                xml_path = file_path\n",
    "                video_path = os.path.splitext(xml_path)[0] + '.mp4'\n",
    "\n",
    "                # 결과 이미지 저장 폴더 생성\n",
    "                os.makedirs(output_folder, exist_ok=True)\n",
    "                # 이미지 추출 함수\n",
    "                extract_frames(xml_path, video_path, output_folder)"
   ]
  },
  {
   "cell_type": "code",
   "execution_count": null,
   "id": "d24bc765-7271-4dae-a5f3-6d16c6dfad2d",
   "metadata": {},
   "outputs": [],
   "source": []
  }
 ],
 "metadata": {
  "kernelspec": {
   "display_name": "Python 3 (ipykernel)",
   "language": "python",
   "name": "python3"
  },
  "language_info": {
   "codemirror_mode": {
    "name": "ipython",
    "version": 3
   },
   "file_extension": ".py",
   "mimetype": "text/x-python",
   "name": "python",
   "nbconvert_exporter": "python",
   "pygments_lexer": "ipython3",
   "version": "3.11.5"
  }
 },
 "nbformat": 4,
 "nbformat_minor": 5
}
